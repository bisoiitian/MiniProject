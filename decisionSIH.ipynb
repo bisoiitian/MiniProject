import numpy as np
import matplotlib.pyplot as plt
import pandas as pd
import seaborn as sns

db=pd.read_csv("diabetes_cleaned.csv")
db.shape
db.head()

X = np.array(db.loc[:, db.columns != 'HbA1c_category'])  
y = np.array(db.loc[:, db.columns == 'HbA1c_category'])

from sklearn.model_selection import train_test_split  
X_train, X_test, y_train, y_test = train_test_split(X, y, test_size=0.20,random_state=30) 

from sklearn.tree import DecisionTreeClassifier  
classifier = DecisionTreeClassifier()  
classifier.fit(X_train, y_train)  

y_pred = classifier.predict(X_test)

from sklearn.metrics import classification_report, confusion_matrix  
print(confusion_matrix(y_test, y_pred))  
print(classification_report(y_test, y_pred))


db1=pd.read_csv("diabetes_cleaned_balanced_NonMedical.csv")
db1.shape

X1 = np.array(db.loc[:, db.columns != 'HbA1c_category'])  
y1 = np.array(db.loc[:, db.columns == 'HbA1c_category'])

from sklearn.model_selection import train_test_split  
X1_train, X1_test, y1_train, y1_test = train_test_split(X1, y1, test_size=0.25,random_state=30) 

from sklearn.tree import DecisionTreeClassifier  
classifier1 = DecisionTreeClassifier()  
classifier1.fit(X1_train, y1_train)  

y_pred1 = classifier.predict(X1_test)

from sklearn.metrics import classification_report, confusion_matrix  
print(confusion_matrix(y1_test, y_pred1))  
print(classification_report(y1_test, y_pred1))
 
classifier2 = DecisionTreeClassifier(criterion="entropy")  
classifier2.fit(X1_train, y1_train)  

y_pred2 = classifier.predict(X1_test)

from sklearn.metrics import classification_report, confusion_matrix  
print(confusion_matrix(y1_test, y_pred2))  
print(classification_report(y1_test, y_pred2))

ax = sns.countplot(x='HbA1c_category',hue='HbA1c_category',palette = 'Set1',data=db1)
ax.set(title = 'Class Distribution for dataset',xlabel = ' Classes',ylabel="Total")
plt.show()

ax = sns.countplot(x='HbA1c_category',hue='HbA1c_category',palette = 'Set1',data=db)
ax.set(title = 'Class Distribution for dataset',xlabel = ' Classes',ylabel="Total")
plt.show()
